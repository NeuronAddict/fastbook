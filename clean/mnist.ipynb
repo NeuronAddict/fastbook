{
 "cells": [
  {
   "cell_type": "code",
   "id": "181f2550cb6879ac",
   "metadata": {
    "ExecuteTime": {
     "end_time": "2024-10-06T01:03:00.335970Z",
     "start_time": "2024-10-06T01:03:00.329950Z"
    }
   },
   "source": [
    "import os\n",
    "\n",
    "import torch\n",
    "from fastbook import *"
   ],
   "outputs": [],
   "execution_count": 6
  },
  {
   "metadata": {
    "collapsed": true,
    "ExecuteTime": {
     "end_time": "2024-10-06T01:03:00.358131Z",
     "start_time": "2024-10-06T01:03:00.353501Z"
    }
   },
   "cell_type": "code",
   "source": [
    "\n",
    "path = Path('/mnist')\n",
    "path.ls()"
   ],
   "id": "initial_id",
   "outputs": [
    {
     "data": {
      "text/plain": [
       "(#2) [Path('/mnist/training'),Path('/mnist/testing')]"
      ]
     },
     "execution_count": 7,
     "metadata": {},
     "output_type": "execute_result"
    }
   ],
   "execution_count": 7
  },
  {
   "metadata": {
    "ExecuteTime": {
     "end_time": "2024-10-06T01:03:00.466335Z",
     "start_time": "2024-10-06T01:03:00.460385Z"
    }
   },
   "cell_type": "code",
   "source": "(path/\"training\").ls()",
   "id": "5feb209d00f342db",
   "outputs": [
    {
     "data": {
      "text/plain": [
       "(#10) [Path('/mnist/training/4'),Path('/mnist/training/3'),Path('/mnist/training/9'),Path('/mnist/training/8'),Path('/mnist/training/0'),Path('/mnist/training/1'),Path('/mnist/training/5'),Path('/mnist/training/7'),Path('/mnist/training/6'),Path('/mnist/training/2')]"
      ]
     },
     "execution_count": 8,
     "metadata": {},
     "output_type": "execute_result"
    }
   ],
   "execution_count": 8
  },
  {
   "metadata": {
    "ExecuteTime": {
     "end_time": "2024-10-06T01:03:00.615466Z",
     "start_time": "2024-10-06T01:03:00.600451Z"
    }
   },
   "cell_type": "code",
   "source": "(path/\"testing\").ls()",
   "id": "b05b13331e783670",
   "outputs": [
    {
     "data": {
      "text/plain": [
       "(#10) [Path('/mnist/testing/4'),Path('/mnist/testing/3'),Path('/mnist/testing/9'),Path('/mnist/testing/8'),Path('/mnist/testing/0'),Path('/mnist/testing/1'),Path('/mnist/testing/5'),Path('/mnist/testing/7'),Path('/mnist/testing/6'),Path('/mnist/testing/2')]"
      ]
     },
     "execution_count": 9,
     "metadata": {},
     "output_type": "execute_result"
    }
   ],
   "execution_count": 9
  },
  {
   "metadata": {
    "ExecuteTime": {
     "end_time": "2024-10-06T01:03:00.904557Z",
     "start_time": "2024-10-06T01:03:00.781103Z"
    }
   },
   "cell_type": "code",
   "source": [
    "training_ones = (path / \"training\" / \"1\").ls().sorted()\n",
    "training_fives = (path / \"training\" / \"5\").ls().sorted()\n",
    "testing_ones = (path / \"testing\" / \"1\").ls().sorted()\n",
    "testing_fives = (path / \"testing\" / \"5\").ls().sorted()\n",
    "training_ones, training_fives, testing_ones, testing_fives"
   ],
   "id": "c8d9989230306ac0",
   "outputs": [
    {
     "data": {
      "text/plain": [
       "((#6742) [Path('/mnist/training/1/10006.png'),Path('/mnist/training/1/10007.png'),Path('/mnist/training/1/1002.png'),Path('/mnist/training/1/10020.png'),Path('/mnist/training/1/10027.png'),Path('/mnist/training/1/1003.png'),Path('/mnist/training/1/10040.png'),Path('/mnist/training/1/10048.png'),Path('/mnist/training/1/10058.png'),Path('/mnist/training/1/10067.png')...],\n",
       " (#5421) [Path('/mnist/training/5/0.png'),Path('/mnist/training/5/100.png'),Path('/mnist/training/5/10008.png'),Path('/mnist/training/5/10015.png'),Path('/mnist/training/5/10030.png'),Path('/mnist/training/5/10035.png'),Path('/mnist/training/5/10049.png'),Path('/mnist/training/5/10051.png'),Path('/mnist/training/5/10056.png'),Path('/mnist/training/5/10062.png')...],\n",
       " (#1135) [Path('/mnist/testing/1/1004.png'),Path('/mnist/testing/1/1008.png'),Path('/mnist/testing/1/1011.png'),Path('/mnist/testing/1/1019.png'),Path('/mnist/testing/1/1025.png'),Path('/mnist/testing/1/1027.png'),Path('/mnist/testing/1/1030.png'),Path('/mnist/testing/1/1037.png'),Path('/mnist/testing/1/1038.png'),Path('/mnist/testing/1/1040.png')...],\n",
       " (#892) [Path('/mnist/testing/5/1003.png'),Path('/mnist/testing/5/102.png'),Path('/mnist/testing/5/1022.png'),Path('/mnist/testing/5/1032.png'),Path('/mnist/testing/5/1041.png'),Path('/mnist/testing/5/1046.png'),Path('/mnist/testing/5/1070.png'),Path('/mnist/testing/5/1073.png'),Path('/mnist/testing/5/1082.png'),Path('/mnist/testing/5/1087.png')...])"
      ]
     },
     "execution_count": 10,
     "metadata": {},
     "output_type": "execute_result"
    }
   ],
   "execution_count": 10
  },
  {
   "metadata": {
    "ExecuteTime": {
     "end_time": "2024-10-06T01:03:01.085793Z",
     "start_time": "2024-10-06T01:03:01.068180Z"
    }
   },
   "cell_type": "code",
   "source": [
    "import PIL.Image\n",
    "\n",
    "img_1 = PIL.Image.open(training_ones[0])\n",
    "img_1"
   ],
   "id": "5d744ee5d5f4cb44",
   "outputs": [
    {
     "data": {
      "text/plain": [
       "<PIL.PngImagePlugin.PngImageFile image mode=L size=28x28>"
      ],
      "image/png": "[encoded data removed]",
      "image/jpeg": "[encoded data removed]"
     },
     "execution_count": 11,
     "metadata": {},
     "output_type": "execute_result"
    }
   ],
   "execution_count": 11
  },
  {
   "metadata": {
    "ExecuteTime": {
     "end_time": "2024-10-06T01:03:01.256766Z",
     "start_time": "2024-10-06T01:03:01.219204Z"
    }
   },
   "cell_type": "code",
   "source": "tensor(img_1)",
   "id": "23134599221d2993",
   "outputs": [
    {
     "data": {
      "text/plain": [
       "tensor([[  0,   0,   0,   0,   0,   0,   0,   0,   0,   0,   0,   0,   0,   0,   0,   0,   0,   0,   0,   0,   0,   0,   0,   0,   0,   0,   0,   0],\n",
       "        [  0,   0,   0,   0,   0,   0,   0,   0,   0,   0,   0,   0,   0,   0,   0,   0,   0,   0,   0,   0,   0,   0,   0,   0,   0,   0,   0,   0],\n",
       "        [  0,   0,   0,   0,   0,   0,   0,   0,   0,   0,   0,   0,   0,   0,   0,   0,   0,   0,   0,   0,   0,   0,   0,   0,   0,   0,   0,   0],\n",
       "        [  0,   0,   0,   0,   0,   0,   0,   0,   0,   0,   0,   0,   0,   0,   0,   0,   0,   0,   0,   0,   0,   0,   0,   0,   0,   0,   0,   0],\n",
       "        [  0,   0,   0,   0,   0,   0,   0,   0,   0,   0,   0,   0,   0,   0,  60, 255,  78,   0,   0,   0,   0,   0,   0,   0,   0,   0,   0,   0],\n",
       "        [  0,   0,   0,   0,   0,   0,   0,   0,   0,   0,   0,   0,   0,   0,  59, 253,  78,   0,   0,   0,   0,   0,   0,   0,   0,   0,   0,   0],\n",
       "        [  0,   0,   0,   0,   0,   0,   0,   0,   0,   0,   0,   0,   0,   0, 183, 253,  78,   0,   0,   0,   0,   0,   0,   0,   0,   0,   0,   0],\n",
       "        [  0,   0,   0,   0,   0,   0,   0,   0,   0,   0,   0,   0,   0,  27, 216, 253,  78,   0,   0,   0,   0,   0,   0,   0,   0,   0,   0,   0],\n",
       "        [  0,   0,   0,   0,   0,   0,   0,   0,   0,   0,   0,   0,   0, 116, 253, 253,  78,   0,   0,   0,   0,   0,   0,   0,   0,   0,   0,   0],\n",
       "        [  0,   0,   0,   0,   0,   0,   0,   0,   0,   0,   0,   0,   0, 196, 253, 207,  10,   0,   0,   0,   0,   0,   0,   0,   0,   0,   0,   0],\n",
       "        [  0,   0,   0,   0,   0,   0,   0,   0,   0,   0,   0,   0,   0, 196, 253, 201,   0,   0,   0,   0,   0,   0,   0,   0,   0,   0,   0,   0],\n",
       "        [  0,   0,   0,   0,   0,   0,   0,   0,   0,   0,   0,   0,   0, 196, 253, 201,   0,   0,   0,   0,   0,   0,   0,   0,   0,   0,   0,   0],\n",
       "        [  0,   0,   0,   0,   0,   0,   0,   0,   0,   0,   0,   0,  21, 212, 253,  97,   0,   0,   0,   0,   0,   0,   0,   0,   0,   0,   0,   0],\n",
       "        [  0,   0,   0,   0,   0,   0,   0,   0,   0,   0,   0,   0,  72, 253, 238,  53,   0,   0,   0,   0,   0,   0,   0,   0,   0,   0,   0,   0],\n",
       "        [  0,   0,   0,   0,   0,   0,   0,   0,   0,   0,   0,   0,  72, 253, 238,  53,   0,   0,   0,   0,   0,   0,   0,   0,   0,   0,   0,   0],\n",
       "        [  0,   0,   0,   0,   0,   0,   0,   0,   0,   0,   0,   0,  72, 253, 241,  57,   0,   0,   0,   0,   0,   0,   0,   0,   0,   0,   0,   0],\n",
       "        [  0,   0,   0,   0,   0,   0,   0,   0,   0,   0,   0,   0,  72, 253, 194,   0,   0,   0,   0,   0,   0,   0,   0,   0,   0,   0,   0,   0],\n",
       "        [  0,   0,   0,   0,   0,   0,   0,   0,   0,   0,   0,   0, 159, 253, 194,   0,   0,   0,   0,   0,   0,   0,   0,   0,   0,   0,   0,   0],\n",
       "        [  0,   0,   0,   0,   0,   0,   0,   0,   0,   0,   0,  51, 235, 253, 177,   0,   0,   0,   0,   0,   0,   0,   0,   0,   0,   0,   0,   0],\n",
       "        [  0,   0,   0,   0,   0,   0,   0,   0,   0,   0,   0,  79, 253, 253,  65,   0,   0,   0,   0,   0,   0,   0,   0,   0,   0,   0,   0,   0],\n",
       "        [  0,   0,   0,   0,   0,   0,   0,   0,   0,   0,   0,  79, 253, 214,  27,   0,   0,   0,   0,   0,   0,   0,   0,   0,   0,   0,   0,   0],\n",
       "        [  0,   0,   0,   0,   0,   0,   0,   0,   0,   0,   0,  79, 253, 191,   4,   0,   0,   0,   0,   0,   0,   0,   0,   0,   0,   0,   0,   0],\n",
       "        [  0,   0,   0,   0,   0,   0,   0,   0,   0,   0,   0,  79, 253, 253, 134,   0,   0,   0,   0,   0,   0,   0,   0,   0,   0,   0,   0,   0],\n",
       "        [  0,   0,   0,   0,   0,   0,   0,   0,   0,   0,   0,  79, 253, 253, 128,   0,   0,   0,   0,   0,   0,   0,   0,   0,   0,   0,   0,   0],\n",
       "        [  0,   0,   0,   0,   0,   0,   0,   0,   0,   0,   0,   0,   0,   0,   0,   0,   0,   0,   0,   0,   0,   0,   0,   0,   0,   0,   0,   0],\n",
       "        [  0,   0,   0,   0,   0,   0,   0,   0,   0,   0,   0,   0,   0,   0,   0,   0,   0,   0,   0,   0,   0,   0,   0,   0,   0,   0,   0,   0],\n",
       "        [  0,   0,   0,   0,   0,   0,   0,   0,   0,   0,   0,   0,   0,   0,   0,   0,   0,   0,   0,   0,   0,   0,   0,   0,   0,   0,   0,   0],\n",
       "        [  0,   0,   0,   0,   0,   0,   0,   0,   0,   0,   0,   0,   0,   0,   0,   0,   0,   0,   0,   0,   0,   0,   0,   0,   0,   0,   0,   0]], dtype=torch.uint8)"
      ]
     },
     "execution_count": 12,
     "metadata": {},
     "output_type": "execute_result"
    }
   ],
   "execution_count": 12
  },
  {
   "metadata": {
    "ExecuteTime": {
     "end_time": "2024-10-06T01:03:05.658758Z",
     "start_time": "2024-10-06T01:03:01.337696Z"
    }
   },
   "cell_type": "code",
   "source": [
    "training_ones_tensor = torch.stack([tensor(Image.open(img)) for img in training_ones]).float()/255\n",
    "testing_ones_tensor = torch.stack([tensor(Image.open(img)) for img in testing_ones]).float()/255\n",
    "training_ones_tensor.shape, testing_ones_tensor.shape"
   ],
   "id": "7cee66564f6e0650",
   "outputs": [
    {
     "data": {
      "text/plain": [
       "(torch.Size([6742, 28, 28]), torch.Size([1135, 28, 28]))"
      ]
     },
     "execution_count": 13,
     "metadata": {},
     "output_type": "execute_result"
    }
   ],
   "execution_count": 13
  },
  {
   "metadata": {
    "ExecuteTime": {
     "end_time": "2024-10-06T01:03:09.355615Z",
     "start_time": "2024-10-06T01:03:05.743424Z"
    }
   },
   "cell_type": "code",
   "source": [
    "training_fives_tensor = torch.stack([tensor(Image.open(img)) for img in training_fives]).float()/255\n",
    "testing_fives_tensor = torch.stack([tensor(Image.open(img)) for img in testing_fives]).float()/255\n",
    "training_fives_tensor.shape, testing_fives_tensor.shape"
   ],
   "id": "bc359a5357b32d32",
   "outputs": [
    {
     "data": {
      "text/plain": [
       "(torch.Size([5421, 28, 28]), torch.Size([892, 28, 28]))"
      ]
     },
     "execution_count": 14,
     "metadata": {},
     "output_type": "execute_result"
    }
   ],
   "execution_count": 14
  },
  {
   "metadata": {
    "ExecuteTime": {
     "end_time": "2024-10-06T01:03:09.462117Z",
     "start_time": "2024-10-06T01:03:09.434076Z"
    }
   },
   "cell_type": "code",
   "source": [
    "train_x = torch.cat([\n",
    "    torch.reshape(training_ones_tensor, (len(training_ones_tensor), 28*28)),\n",
    "    torch.reshape(training_fives_tensor, (len(training_fives_tensor), 28*28)),\n",
    "    ])\n",
    "train_x.shape"
   ],
   "id": "c65f12bc3cc00f43",
   "outputs": [
    {
     "data": {
      "text/plain": [
       "torch.Size([12163, 784])"
      ]
     },
     "execution_count": 15,
     "metadata": {},
     "output_type": "execute_result"
    }
   ],
   "execution_count": 15
  },
  {
   "metadata": {
    "ExecuteTime": {
     "end_time": "2024-10-06T01:03:09.614004Z",
     "start_time": "2024-10-06T01:03:09.599434Z"
    }
   },
   "cell_type": "code",
   "source": [
    "train_y = torch.cat([torch.full((len(training_ones_tensor),), 1), torch.full((len(training_fives_tensor),), 0)])\n",
    "train_y.shape"
   ],
   "id": "66e556ef2b5c1fd9",
   "outputs": [
    {
     "data": {
      "text/plain": [
       "torch.Size([12163])"
      ]
     },
     "execution_count": 16,
     "metadata": {},
     "output_type": "execute_result"
    }
   ],
   "execution_count": 16
  },
  {
   "metadata": {
    "ExecuteTime": {
     "end_time": "2024-10-06T01:03:09.704178Z",
     "start_time": "2024-10-06T01:03:09.689093Z"
    }
   },
   "cell_type": "code",
   "source": [
    "valid_x = torch.cat([\n",
    "    torch.reshape(testing_ones_tensor, (len(testing_ones_tensor), 28*28)),\n",
    "    torch.reshape(testing_fives_tensor, (len(testing_fives_tensor), 28*28)), \n",
    "])\n",
    "valid_x.shape"
   ],
   "id": "27dde9148b233ca7",
   "outputs": [
    {
     "data": {
      "text/plain": [
       "torch.Size([2027, 784])"
      ]
     },
     "execution_count": 17,
     "metadata": {},
     "output_type": "execute_result"
    }
   ],
   "execution_count": 17
  },
  {
   "metadata": {
    "ExecuteTime": {
     "end_time": "2024-10-06T01:03:09.826350Z",
     "start_time": "2024-10-06T01:03:09.816566Z"
    }
   },
   "cell_type": "code",
   "source": [
    "valid_y = torch.cat([torch.full((len(testing_ones_tensor),), 1), torch.full((len(testing_fives_tensor),), 0)])\n",
    "valid_y.shape"
   ],
   "id": "88fcee39fb9bf0eb",
   "outputs": [
    {
     "data": {
      "text/plain": [
       "torch.Size([2027])"
      ]
     },
     "execution_count": 18,
     "metadata": {},
     "output_type": "execute_result"
    }
   ],
   "execution_count": 18
  },
  {
   "metadata": {
    "ExecuteTime": {
     "end_time": "2024-10-06T01:03:09.867303Z",
     "start_time": "2024-10-06T01:03:09.864175Z"
    }
   },
   "cell_type": "code",
   "source": [
    "def init_params(size, std=1.0):\n",
    "    return (torch.randn(size) * std).requires_grad_()"
   ],
   "id": "17e5f20a140ce931",
   "outputs": [],
   "execution_count": 19
  },
  {
   "metadata": {
    "ExecuteTime": {
     "end_time": "2024-10-06T01:03:09.900267Z",
     "start_time": "2024-10-06T01:03:09.896808Z"
    }
   },
   "cell_type": "code",
   "source": [
    "def loss(pred: Tensor, target: Tensor):\n",
    "    pred = pred.sigmoid()\n",
    "    return torch.where(target==1, 1 - pred, pred).mean()\n",
    "    "
   ],
   "id": "9257a8b457f2c2db",
   "outputs": [],
   "execution_count": 20
  },
  {
   "metadata": {
    "ExecuteTime": {
     "end_time": "2024-10-06T01:03:10.178540Z",
     "start_time": "2024-10-06T01:03:09.927958Z"
    }
   },
   "cell_type": "code",
   "source": [
    "dl = DataLoader(list(zip(train_x, train_y)), batch_size=256)\n",
    "xb, yb = first(dl)\n",
    "xb.shape, yb.shape "
   ],
   "id": "d57e06b3a7f700cb",
   "outputs": [
    {
     "data": {
      "text/plain": [
       "(torch.Size([256, 784]), torch.Size([256]))"
      ]
     },
     "execution_count": 21,
     "metadata": {},
     "output_type": "execute_result"
    }
   ],
   "execution_count": 21
  },
  {
   "metadata": {
    "ExecuteTime": {
     "end_time": "2024-10-06T01:03:10.237237Z",
     "start_time": "2024-10-06T01:03:10.229638Z"
    }
   },
   "cell_type": "code",
   "source": "valid_dl = DataLoader(list(zip(valid_x, valid_y)))",
   "id": "ef8a6a292a144822",
   "outputs": [],
   "execution_count": 22
  },
  {
   "metadata": {
    "ExecuteTime": {
     "end_time": "2024-10-06T01:04:21.672209Z",
     "start_time": "2024-10-06T01:03:56.529345Z"
    }
   },
   "cell_type": "code",
   "source": [
    "def calc_grad(xb, yb, model):\n",
    "    preds = model(xb)\n",
    "    l = loss(preds, yb)\n",
    "    l.backward()\n",
    "\n",
    "class BasicOptim:\n",
    "    \n",
    "    def __init__(self, params: Tensor, lr: float):\n",
    "        self.params = list(params)\n",
    "        self.lr = lr\n",
    "        \n",
    "    def step(self):\n",
    "        for p in self.params:\n",
    "            # print(f'gradient: {p.grad.data[4:4:4]}')\n",
    "            p.data -= p.grad.data * self.lr\n",
    "            \n",
    "    def zero_grad(self):\n",
    "        for p in self.params:\n",
    "            p.grad = None\n",
    "\n",
    "def train_epoch(model, opt: BasicOptim):\n",
    "    for xb, yb in dl:\n",
    "        calc_grad(xb, yb, model)\n",
    "        opt.step()\n",
    "        opt.zero_grad()\n",
    "        \n",
    "def batch_accuracy(xb, yb):\n",
    "    preds = xb.sigmoid()\n",
    "    correct = (preds>0.5) == yb\n",
    "    return correct.float().mean()\n",
    "\n",
    "def validate_epoch(model):\n",
    "    accs = [batch_accuracy(model(xb), yb) for xb,yb in valid_dl]\n",
    "    return round(torch.stack(accs).mean().item(), 4)\n",
    "\n",
    "\n",
    "lr = 1.\n",
    "\n",
    "linear_model = nn.Linear(28 * 28, 1)\n",
    "\n",
    "opt = BasicOptim(linear_model.parameters(), lr)\n",
    "\n",
    "for i in range(20):\n",
    "    train_epoch(linear_model, opt)\n",
    "    print(validate_epoch(linear_model))"
   ],
   "id": "e35b2083d03a09fe",
   "outputs": [
    {
     "name": "stdout",
     "output_type": "stream",
     "text": [
      "0.6428\n",
      "0.9156\n",
      "0.9635\n",
      "0.9798\n",
      "0.9847\n",
      "0.9872\n",
      "0.9896\n",
      "0.9901\n",
      "0.9916\n",
      "0.9931\n",
      "0.9931\n",
      "0.9931\n",
      "0.9941\n",
      "0.9941\n",
      "0.9941\n",
      "0.9941\n",
      "0.9941\n",
      "0.9941\n",
      "0.9946\n",
      "0.9946\n"
     ]
    }
   ],
   "execution_count": 25
  },
  {
   "metadata": {
    "ExecuteTime": {
     "end_time": "2024-10-06T01:04:26.122891Z",
     "start_time": "2024-10-06T01:04:26.115235Z"
    }
   },
   "cell_type": "code",
   "source": "linear_model(valid_x)",
   "id": "b10261a2628c9db",
   "outputs": [
    {
     "data": {
      "text/plain": [
       "tensor([[  4.5224],\n",
       "        [  6.7575],\n",
       "        [  8.7884],\n",
       "        ...,\n",
       "        [ -5.4234],\n",
       "        [-16.6684],\n",
       "        [-12.8378]], grad_fn=<AddmmBackward0>)"
      ]
     },
     "execution_count": 26,
     "metadata": {},
     "output_type": "execute_result"
    }
   ],
   "execution_count": 26
  },
  {
   "metadata": {
    "ExecuteTime": {
     "end_time": "2024-10-06T01:03:15.388780Z",
     "start_time": "2024-10-06T01:03:15.386135Z"
    }
   },
   "cell_type": "code",
   "source": "",
   "id": "ab34027d398dc826",
   "outputs": [],
   "execution_count": null
  }
 ],
 "metadata": {
  "kernelspec": {
   "display_name": "Python 3",
   "language": "python",
   "name": "python3"
  },
  "language_info": {
   "codemirror_mode": {
    "name": "ipython",
    "version": 2
   },
   "file_extension": ".py",
   "mimetype": "text/x-python",
   "name": "python",
   "nbconvert_exporter": "python",
   "pygments_lexer": "ipython2",
   "version": "2.7.6"
  }
 },
 "nbformat": 4,
 "nbformat_minor": 5
}
