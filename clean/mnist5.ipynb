{
 "cells": [
  {
   "cell_type": "code",
   "id": "initial_id",
   "metadata": {
    "collapsed": true,
    "ExecuteTime": {
     "end_time": "2024-10-13T19:23:55.677547Z",
     "start_time": "2024-10-13T19:23:51.322561Z"
    }
   },
   "source": [
    "from fastai.vision.all import *\n",
    "print(\"Is CUDA available?:\", torch.cuda.is_available())"
   ],
   "outputs": [
    {
     "name": "stdout",
     "output_type": "stream",
     "text": [
      "Is CUDA available?: True\n"
     ]
    }
   ],
   "execution_count": 1
  },
  {
   "metadata": {
    "ExecuteTime": {
     "end_time": "2024-10-13T19:25:15.546569Z",
     "start_time": "2024-10-13T19:25:12.542193Z"
    }
   },
   "cell_type": "code",
   "source": [
    "path = untar_data(URLs.MNIST_SAMPLE, base='./data')\n",
    "path.ls()"
   ],
   "id": "dcfc3fe1e0dfb900",
   "outputs": [
    {
     "data": {
      "text/plain": [
       "<IPython.core.display.HTML object>"
      ],
      "text/html": [
       "\n",
       "<style>\n",
       "    /* Turns off some styling */\n",
       "    progress {\n",
       "        /* gets rid of default border in Firefox and Opera. */\n",
       "        border: none;\n",
       "        /* Needs to be in here for Safari polyfill so background images work as expected. */\n",
       "        background-size: auto;\n",
       "    }\n",
       "    progress:not([value]), progress:not([value])::-webkit-progress-bar {\n",
       "        background: repeating-linear-gradient(45deg, #7e7e7e, #7e7e7e 10px, #5c5c5c 10px, #5c5c5c 20px);\n",
       "    }\n",
       "    .progress-bar-interrupted, .progress-bar-interrupted::-webkit-progress-bar {\n",
       "        background: #F44336;\n",
       "    }\n",
       "</style>\n"
      ]
     },
     "metadata": {},
     "output_type": "display_data"
    },
    {
     "data": {
      "text/plain": [
       "<IPython.core.display.HTML object>"
      ],
      "text/html": [
       "\n",
       "    <div>\n",
       "      <progress value='3219456' class='' max='3214948' style='width:300px; height:20px; vertical-align: middle;'></progress>\n",
       "      100.14% [3219456/3214948 00:00&lt;00:00]\n",
       "    </div>\n",
       "    "
      ]
     },
     "metadata": {},
     "output_type": "display_data"
    },
    {
     "data": {
      "text/plain": [
       "(#3) [Path('/home/jovyan/.fastai/data/mnist_sample/labels.csv'),Path('/home/jovyan/.fastai/data/mnist_sample/valid'),Path('/home/jovyan/.fastai/data/mnist_sample/train')]"
      ]
     },
     "execution_count": 2,
     "metadata": {},
     "output_type": "execute_result"
    }
   ],
   "execution_count": 2
  },
  {
   "metadata": {
    "ExecuteTime": {
     "end_time": "2024-10-13T19:25:17.719608Z",
     "start_time": "2024-10-13T19:25:17.603485Z"
    }
   },
   "cell_type": "code",
   "source": [
    "training_ones = (path / \"train\" / \"3\").ls().sorted()\n",
    "training_fives = (path / \"train\" / \"7\").ls().sorted()\n",
    "testing_ones = (path / \"valid\" / \"3\").ls().sorted()\n",
    "testing_fives = (path / \"valid\" / \"7\").ls().sorted()\n",
    "dataset = training_ones + training_fives + testing_ones + testing_fives\n",
    "dataset"
   ],
   "id": "43875d355d31b085",
   "outputs": [
    {
     "data": {
      "text/plain": [
       "(#14434) [Path('/home/jovyan/.fastai/data/mnist_sample/train/3/10.png'),Path('/home/jovyan/.fastai/data/mnist_sample/train/3/10000.png'),Path('/home/jovyan/.fastai/data/mnist_sample/train/3/10011.png'),Path('/home/jovyan/.fastai/data/mnist_sample/train/3/10031.png'),Path('/home/jovyan/.fastai/data/mnist_sample/train/3/10034.png'),Path('/home/jovyan/.fastai/data/mnist_sample/train/3/10042.png'),Path('/home/jovyan/.fastai/data/mnist_sample/train/3/10052.png'),Path('/home/jovyan/.fastai/data/mnist_sample/train/3/1007.png'),Path('/home/jovyan/.fastai/data/mnist_sample/train/3/10074.png'),Path('/home/jovyan/.fastai/data/mnist_sample/train/3/10091.png')...]"
      ]
     },
     "execution_count": 3,
     "metadata": {},
     "output_type": "execute_result"
    }
   ],
   "execution_count": 3
  },
  {
   "metadata": {
    "ExecuteTime": {
     "end_time": "2024-10-13T19:25:19.626270Z",
     "start_time": "2024-10-13T19:25:19.617819Z"
    }
   },
   "cell_type": "code",
   "source": [
    "chars = DataBlock(\n",
    "    blocks=(ImageBlock, CategoryBlock),\n",
    "    get_items=get_image_files,\n",
    "    splitter=GrandparentSplitter(),\n",
    "    get_y=parent_label,\n",
    "    item_tfms=Resize(128)\n",
    ")\n",
    "chars"
   ],
   "id": "dfca670aa8ea8dc3",
   "outputs": [
    {
     "data": {
      "text/plain": [
       "<fastai.data.block.DataBlock at 0x7f241e1def10>"
      ]
     },
     "execution_count": 4,
     "metadata": {},
     "output_type": "execute_result"
    }
   ],
   "execution_count": 4
  },
  {
   "metadata": {
    "ExecuteTime": {
     "end_time": "2024-10-13T19:25:21.830089Z",
     "start_time": "2024-10-13T19:25:20.713909Z"
    }
   },
   "cell_type": "code",
   "source": [
    "dls = chars.dataloaders(path)\n",
    "dls"
   ],
   "id": "388a8dc9c6dfe81b",
   "outputs": [
    {
     "data": {
      "text/plain": [
       "<fastai.data.core.DataLoaders at 0x7f24206b2390>"
      ]
     },
     "execution_count": 5,
     "metadata": {},
     "output_type": "execute_result"
    }
   ],
   "execution_count": 5
  },
  {
   "metadata": {
    "ExecuteTime": {
     "end_time": "2024-10-13T19:25:42.395713Z",
     "start_time": "2024-10-13T19:25:22.995280Z"
    }
   },
   "cell_type": "code",
   "source": [
    "# https://stackoverflow.com/questions/67154919/fast-aimoduleattributeerror-sequential-object-has-no-attribute-fine-tune\n",
    "#from fastai.callback.schedule import fine_tune\n",
    "\n",
    "learn = vision_learner(dls, models.resnet18, metrics=error_rate)\n",
    "learn.fine_tune(1)"
   ],
   "id": "3f93e9cb131ab636",
   "outputs": [
    {
     "name": "stderr",
     "output_type": "stream",
     "text": [
      "Downloading: \"https://download.pytorch.org/models/resnet18-f37072fd.pth\" to /home/jovyan/.cache/torch/hub/checkpoints/resnet18-f37072fd.pth\n",
      "100%|██████████| 44.7M/44.7M [00:02<00:00, 17.7MB/s]\n"
     ]
    },
    {
     "data": {
      "text/plain": [
       "<IPython.core.display.HTML object>"
      ],
      "text/html": [
       "\n",
       "<style>\n",
       "    /* Turns off some styling */\n",
       "    progress {\n",
       "        /* gets rid of default border in Firefox and Opera. */\n",
       "        border: none;\n",
       "        /* Needs to be in here for Safari polyfill so background images work as expected. */\n",
       "        background-size: auto;\n",
       "    }\n",
       "    progress:not([value]), progress:not([value])::-webkit-progress-bar {\n",
       "        background: repeating-linear-gradient(45deg, #7e7e7e, #7e7e7e 10px, #5c5c5c 10px, #5c5c5c 20px);\n",
       "    }\n",
       "    .progress-bar-interrupted, .progress-bar-interrupted::-webkit-progress-bar {\n",
       "        background: #F44336;\n",
       "    }\n",
       "</style>\n"
      ]
     },
     "metadata": {},
     "output_type": "display_data"
    },
    {
     "data": {
      "text/plain": [
       "<IPython.core.display.HTML object>"
      ],
      "text/html": [
       "<table border=\"1\" class=\"dataframe\">\n",
       "  <thead>\n",
       "    <tr style=\"text-align: left;\">\n",
       "      <th>epoch</th>\n",
       "      <th>train_loss</th>\n",
       "      <th>valid_loss</th>\n",
       "      <th>error_rate</th>\n",
       "      <th>time</th>\n",
       "    </tr>\n",
       "  </thead>\n",
       "  <tbody>\n",
       "    <tr>\n",
       "      <td>0</td>\n",
       "      <td>0.064032</td>\n",
       "      <td>0.029849</td>\n",
       "      <td>0.009814</td>\n",
       "      <td>00:08</td>\n",
       "    </tr>\n",
       "  </tbody>\n",
       "</table>"
      ]
     },
     "metadata": {},
     "output_type": "display_data"
    },
    {
     "data": {
      "text/plain": [
       "<IPython.core.display.HTML object>"
      ],
      "text/html": [
       "\n",
       "<style>\n",
       "    /* Turns off some styling */\n",
       "    progress {\n",
       "        /* gets rid of default border in Firefox and Opera. */\n",
       "        border: none;\n",
       "        /* Needs to be in here for Safari polyfill so background images work as expected. */\n",
       "        background-size: auto;\n",
       "    }\n",
       "    progress:not([value]), progress:not([value])::-webkit-progress-bar {\n",
       "        background: repeating-linear-gradient(45deg, #7e7e7e, #7e7e7e 10px, #5c5c5c 10px, #5c5c5c 20px);\n",
       "    }\n",
       "    .progress-bar-interrupted, .progress-bar-interrupted::-webkit-progress-bar {\n",
       "        background: #F44336;\n",
       "    }\n",
       "</style>\n"
      ]
     },
     "metadata": {},
     "output_type": "display_data"
    },
    {
     "data": {
      "text/plain": [
       "<IPython.core.display.HTML object>"
      ],
      "text/html": [
       "<table border=\"1\" class=\"dataframe\">\n",
       "  <thead>\n",
       "    <tr style=\"text-align: left;\">\n",
       "      <th>epoch</th>\n",
       "      <th>train_loss</th>\n",
       "      <th>valid_loss</th>\n",
       "      <th>error_rate</th>\n",
       "      <th>time</th>\n",
       "    </tr>\n",
       "  </thead>\n",
       "  <tbody>\n",
       "    <tr>\n",
       "      <td>0</td>\n",
       "      <td>0.018601</td>\n",
       "      <td>0.004808</td>\n",
       "      <td>0.001472</td>\n",
       "      <td>00:07</td>\n",
       "    </tr>\n",
       "  </tbody>\n",
       "</table>"
      ]
     },
     "metadata": {},
     "output_type": "display_data"
    }
   ],
   "execution_count": 6
  },
  {
   "metadata": {
    "ExecuteTime": {
     "end_time": "2024-10-13T19:27:45.247080Z",
     "start_time": "2024-10-13T19:27:45.125773Z"
    }
   },
   "cell_type": "code",
   "source": "learn.export()",
   "id": "83f270598ddde2b9",
   "outputs": [],
   "execution_count": 7
  },
  {
   "metadata": {},
   "cell_type": "code",
   "outputs": [],
   "execution_count": null,
   "source": "learn.predict('~/.fastai/data/mnist_sample/train/3/10.png')",
   "id": "5b39bc30599a8581"
  }
 ],
 "metadata": {
  "kernelspec": {
   "display_name": "Python 3",
   "language": "python",
   "name": "python3"
  },
  "language_info": {
   "codemirror_mode": {
    "name": "ipython",
    "version": 2
   },
   "file_extension": ".py",
   "mimetype": "text/x-python",
   "name": "python",
   "nbconvert_exporter": "python",
   "pygments_lexer": "ipython2",
   "version": "2.7.6"
  }
 },
 "nbformat": 4,
 "nbformat_minor": 5
}
