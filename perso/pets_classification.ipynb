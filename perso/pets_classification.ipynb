{
 "cells": [
  {
   "cell_type": "markdown",
   "id": "67a041ee55ee6abb",
   "metadata": {},
   "source": [
    "# Pets classification\n",
    "\n",
    "Tutorial : https://docs.fast.ai/tutorial.vision.html"
   ]
  },
  {
   "cell_type": "code",
   "execution_count": null,
   "id": "initial_id",
   "metadata": {},
   "outputs": [],
   "source": [
    "from fastai.data.transforms import get_image_files, RegexLabeller\n",
    "from fastai.data.external import untar_data, URLs\n",
    "from fastai.interpret import Interpretation\n",
    "from jedi.inference.parser_cache import get_yield_exprs\n",
    "\n",
    "path = untar_data(URLs.PETS)\n",
    "files = get_image_files(path/\"images\")\n",
    "len(files), path"
   ]
  },
  {
   "cell_type": "code",
   "execution_count": null,
   "id": "bc6919cde8e2811b",
   "metadata": {},
   "outputs": [],
   "source": [
    "from fastcore.basics import using_attr\n",
    "from fastai.data.block import DataBlock, CategoryBlock\n",
    "from fastai.data.transforms import RandomSplitter\n",
    "from fastai.vision.augment import Resize, aug_transforms\n",
    "from fastai.vision.data import ImageDataLoaders, ImageBlock\n",
    "\n",
    "pat = r'^(.*)_\\d+.jpg'\n",
    "\n",
    "dblock = DataBlock(\n",
    "    blocks=[ImageBlock, CategoryBlock],\n",
    "    get_items=get_image_files,\n",
    "    splitter=RandomSplitter(seed=42),\n",
    "    get_y=using_attr(RegexLabeller(pat), 'name'),\n",
    "    item_tfms=[Resize(460)],\n",
    "    batch_tfms=aug_transforms(size=224)\n",
    ")\n",
    "dblock.summary(path/'images')"
   ]
  },
  {
   "cell_type": "code",
   "execution_count": null,
   "id": "9413591c1a77bdaf",
   "metadata": {},
   "outputs": [],
   "source": [
    "dls = dblock.dataloaders(path/'images')\n",
    "dls.show_batch(nrows=1,ncols=3)"
   ]
  },
  {
   "cell_type": "code",
   "execution_count": null,
   "id": "1c322364bdd09e64",
   "metadata": {},
   "outputs": [],
   "source": [
    "from fastai.learner import Learner\n",
    "from fastai.vision import models\n",
    "from fastai.vision.learner import vision_learner\n",
    "from fastai.metrics import error_rate\n",
    "# noinspection PyUnresolvedReferences\n",
    "from fastai.callback.schedule import lr_find\n",
    "\n",
    "learn: Learner = vision_learner(dls, models.resnet34, metrics=error_rate)\n",
    "lr = learn.lr_find()\n",
    "lr"
   ]
  },
  {
   "cell_type": "code",
   "execution_count": null,
   "id": "bdc5720a1e6ecc2a",
   "metadata": {},
   "outputs": [],
   "source": [
    "learn.fine_tune(4, lr.valley)\n",
    "learn.show_results()"
   ]
  },
  {
   "cell_type": "code",
   "execution_count": null,
   "id": "da6464f3ddbf045f",
   "metadata": {},
   "outputs": [],
   "source": [
    "interp = Interpretation.from_learner(learn)\n",
    "interp.plot_top_losses(9, figsize=(15,10))"
   ]
  },
  {
   "cell_type": "code",
   "execution_count": null,
   "id": "e8a937239daaa098",
   "metadata": {},
   "outputs": [],
   "source": [
    "from fastai.interpret import ClassificationInterpretation\n",
    "\n",
    "interp = ClassificationInterpretation.from_learner(learn)\n",
    "interp.plot_confusion_matrix(figsize=(12,12), dpi=60)"
   ]
  },
  {
   "cell_type": "code",
   "execution_count": null,
   "id": "e1ccdd9f3dd9e823",
   "metadata": {},
   "outputs": [],
   "source": []
  }
 ],
 "metadata": {
  "kernelspec": {
   "display_name": "Python 3 (ipykernel)",
   "language": "python",
   "name": "python3"
  },
  "language_info": {
   "codemirror_mode": {
    "name": "ipython",
    "version": 3
   },
   "file_extension": ".py",
   "mimetype": "text/x-python",
   "name": "python",
   "nbconvert_exporter": "python",
   "pygments_lexer": "ipython3"
  }
 },
 "nbformat": 4,
 "nbformat_minor": 5
}
