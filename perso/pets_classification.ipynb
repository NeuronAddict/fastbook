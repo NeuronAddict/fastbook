{
 "cells": [
  {
   "cell_type": "markdown",
   "id": "67a041ee55ee6abb",
   "metadata": {},
   "source": [
    "# Pets classification\n",
    "\n",
    "Tutorial : https://docs.fast.ai/tutorial.vision.html"
   ]
  },
  {
   "cell_type": "code",
   "execution_count": null,
   "id": "initial_id",
   "metadata": {},
   "outputs": [],
   "source": [
    "from fastai.data.transforms import get_image_files\n",
    "from fastai.data.external import untar_data, URLs\n",
    "from fastai.interpret import Interpretation\n",
    "\n",
    "path = untar_data(URLs.PETS)\n",
    "files = get_image_files(path/\"images\")\n",
    "len(files), path"
   ]
  },
  {
   "cell_type": "code",
   "execution_count": null,
   "id": "9413591c1a77bdaf",
   "metadata": {},
   "outputs": [],
   "source": [
    "from fastai.vision.augment import Resize, aug_transforms\n",
    "from fastai.vision.data import ImageDataLoaders\n",
    "\n",
    "pat = r'^(.*)_\\d+.jpg'\n",
    "dls = ImageDataLoaders.from_name_re(path, files, pat, item_tfms=Resize(460), batch_tfms=aug_transforms(size=224))\n",
    "dls.show_batch()"
   ]
  },
  {
   "cell_type": "code",
   "execution_count": null,
   "id": "1c322364bdd09e64",
   "metadata": {},
   "outputs": [],
   "source": [
    "from fastai.vision import models\n",
    "from fastai.vision.learner import vision_learner\n",
    "from fastai.metrics import error_rate\n",
    "# noinspection PyUnresolvedReferences\n",
    "from fastai.callback.schedule import lr_find\n",
    "\n",
    "learn = vision_learner(dls, models.resnet34, metrics=error_rate)\n",
    "lr = learn.lr_find()\n",
    "lr"
   ]
  },
  {
   "cell_type": "code",
   "execution_count": null,
   "id": "bdc5720a1e6ecc2a",
   "metadata": {},
   "outputs": [],
   "source": [
    "learn.fine_tune(4, lr.valley)\n",
    "learn.show_results()"
   ]
  },
  {
   "cell_type": "code",
   "execution_count": null,
   "id": "da6464f3ddbf045f",
   "metadata": {},
   "outputs": [],
   "source": [
    "interp = Interpretation.from_learner(learn)\n",
    "interp.plot_top_losses(9, figsize=(15,10))"
   ]
  }
 ],
 "metadata": {
  "kernelspec": {
   "display_name": "Python 3",
   "language": "python",
   "name": "python3"
  },
  "language_info": {
   "codemirror_mode": {
    "name": "ipython",
    "version": 2
   },
   "file_extension": ".py",
   "mimetype": "text/x-python",
   "name": "python",
   "nbconvert_exporter": "python",
   "pygments_lexer": "ipython2"
  }
 },
 "nbformat": 4,
 "nbformat_minor": 5
}
