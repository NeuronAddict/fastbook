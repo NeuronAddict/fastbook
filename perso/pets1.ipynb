{
 "cells": [
  {
   "cell_type": "code",
   "execution_count": null,
   "id": "initial_id",
   "metadata": {},
   "outputs": [],
   "source": [
    "from fastai.data.transforms import get_image_files\n",
    "from fastai.data.external import URLs, untar_data\n",
    "from fastai.vision.data import ImageDataLoaders\n",
    "from fastai.vision.learner import vision_learner\n",
    "from torchvision.models import resnet34\n",
    "\n",
    "path = untar_data(URLs.PETS)\n",
    "files = get_image_files(path/\"images\")\n",
    "len(files), path"
   ]
  },
  {
   "cell_type": "code",
   "execution_count": null,
   "id": "7fce28392d2c3e5",
   "metadata": {},
   "outputs": [],
   "source": [
    "from fastai.vision.augment import Resize\n",
    "\n",
    "def label_func(f): return f[0].isupper()\n",
    "\n",
    "dls = ImageDataLoaders.from_name_func(path, files, label_func=label_func, item_tfms=Resize(224))\n",
    "dls.show_batch()"
   ]
  },
  {
   "cell_type": "code",
   "execution_count": null,
   "id": "1659f1850bc9f6e1",
   "metadata": {},
   "outputs": [],
   "source": [
    "from fastai.metrics import error_rate\n",
    "\n",
    "learn = vision_learner(dls, resnet34, metrics=error_rate)\n",
    "learn.fine_tune(1)"
   ]
  },
  {
   "cell_type": "code",
   "execution_count": null,
   "id": "e6adbc8e5ccba438",
   "metadata": {},
   "outputs": [],
   "source": [
    "learn.predict(files[0])\n",
    "learn.show_results()"
   ]
  }
 ],
 "metadata": {
  "kernelspec": {
   "display_name": "Python 3",
   "language": "python",
   "name": "python3"
  },
  "language_info": {
   "codemirror_mode": {
    "name": "ipython",
    "version": 2
   },
   "file_extension": ".py",
   "mimetype": "text/x-python",
   "name": "python",
   "nbconvert_exporter": "python",
   "pygments_lexer": "ipython2"
  }
 },
 "nbformat": 4,
 "nbformat_minor": 5
}
