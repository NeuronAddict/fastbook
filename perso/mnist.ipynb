{
 "cells": [
  {
   "cell_type": "code",
   "execution_count": null,
   "id": "181f2550cb6879ac",
   "metadata": {},
   "outputs": [],
   "source": [
    "import os\n",
    "\n",
    "import torch\n",
    "from fastbook import *"
   ]
  },
  {
   "cell_type": "code",
   "execution_count": null,
   "id": "initial_id",
   "metadata": {},
   "outputs": [],
   "source": [
    "\n",
    "path = Path('/mnist')\n",
    "path.ls()"
   ]
  },
  {
   "cell_type": "code",
   "execution_count": null,
   "id": "5feb209d00f342db",
   "metadata": {},
   "outputs": [],
   "source": [
    "(path/\"training\").ls()"
   ]
  },
  {
   "cell_type": "code",
   "execution_count": null,
   "id": "b05b13331e783670",
   "metadata": {},
   "outputs": [],
   "source": [
    "(path/\"testing\").ls()"
   ]
  },
  {
   "cell_type": "code",
   "execution_count": null,
   "id": "c8d9989230306ac0",
   "metadata": {},
   "outputs": [],
   "source": [
    "training_ones = (path / \"training\" / \"1\").ls().sorted()\n",
    "training_fives = (path / \"training\" / \"5\").ls().sorted()\n",
    "testing_ones = (path / \"testing\" / \"1\").ls().sorted()\n",
    "testing_fives = (path / \"testing\" / \"5\").ls().sorted()\n",
    "training_ones, training_fives, testing_ones, testing_fives"
   ]
  },
  {
   "cell_type": "code",
   "execution_count": null,
   "id": "5d744ee5d5f4cb44",
   "metadata": {},
   "outputs": [],
   "source": [
    "import PIL.Image\n",
    "\n",
    "img_1 = PIL.Image.open(training_ones[0])\n",
    "img_1"
   ]
  },
  {
   "cell_type": "code",
   "execution_count": null,
   "id": "23134599221d2993",
   "metadata": {},
   "outputs": [],
   "source": [
    "tensor(img_1)"
   ]
  },
  {
   "cell_type": "code",
   "execution_count": null,
   "id": "7cee66564f6e0650",
   "metadata": {},
   "outputs": [],
   "source": [
    "training_ones_tensor = torch.stack([tensor(Image.open(img)) for img in training_ones]).float()/255\n",
    "testing_ones_tensor = torch.stack([tensor(Image.open(img)) for img in testing_ones]).float()/255\n",
    "training_ones_tensor.shape, testing_ones_tensor.shape"
   ]
  },
  {
   "cell_type": "code",
   "execution_count": null,
   "id": "bc359a5357b32d32",
   "metadata": {},
   "outputs": [],
   "source": [
    "training_fives_tensor = torch.stack([tensor(Image.open(img)) for img in training_fives]).float()/255\n",
    "testing_fives_tensor = torch.stack([tensor(Image.open(img)) for img in testing_fives]).float()/255\n",
    "training_fives_tensor.shape, testing_fives_tensor.shape"
   ]
  },
  {
   "cell_type": "code",
   "execution_count": null,
   "id": "c65f12bc3cc00f43",
   "metadata": {},
   "outputs": [],
   "source": [
    "train_x = torch.cat([\n",
    "    torch.reshape(training_ones_tensor, (len(training_ones_tensor), 28*28)),\n",
    "    torch.reshape(training_fives_tensor, (len(training_fives_tensor), 28*28)),\n",
    "    ])\n",
    "train_x.shape"
   ]
  },
  {
   "cell_type": "code",
   "execution_count": null,
   "id": "66e556ef2b5c1fd9",
   "metadata": {},
   "outputs": [],
   "source": [
    "train_y = torch.cat([torch.full((len(training_ones_tensor),), 1), torch.full((len(training_fives_tensor),), 0)])\n",
    "train_y.shape"
   ]
  },
  {
   "cell_type": "code",
   "execution_count": null,
   "id": "27dde9148b233ca7",
   "metadata": {},
   "outputs": [],
   "source": [
    "valid_x = torch.cat([\n",
    "    torch.reshape(testing_ones_tensor, (len(testing_ones_tensor), 28*28)),\n",
    "    torch.reshape(testing_fives_tensor, (len(testing_fives_tensor), 28*28)), \n",
    "])\n",
    "valid_x.shape"
   ]
  },
  {
   "cell_type": "code",
   "execution_count": null,
   "id": "88fcee39fb9bf0eb",
   "metadata": {},
   "outputs": [],
   "source": [
    "valid_y = torch.cat([torch.full((len(testing_ones_tensor),), 1), torch.full((len(testing_fives_tensor),), 0)])\n",
    "valid_y.shape"
   ]
  },
  {
   "cell_type": "code",
   "execution_count": null,
   "id": "17e5f20a140ce931",
   "metadata": {},
   "outputs": [],
   "source": [
    "def init_params(size, std=1.0):\n",
    "    return (torch.randn(size) * std).requires_grad_()"
   ]
  },
  {
   "cell_type": "code",
   "execution_count": null,
   "id": "9257a8b457f2c2db",
   "metadata": {},
   "outputs": [],
   "source": [
    "def loss(pred: Tensor, target: Tensor):\n",
    "    pred = pred.sigmoid()\n",
    "    return torch.where(target==1, 1 - pred, pred).mean()\n",
    "    "
   ]
  },
  {
   "cell_type": "code",
   "execution_count": null,
   "id": "d57e06b3a7f700cb",
   "metadata": {},
   "outputs": [],
   "source": [
    "dl = DataLoader(list(zip(train_x, train_y)), batch_size=256)\n",
    "xb, yb = first(dl)\n",
    "xb.shape, yb.shape "
   ]
  },
  {
   "cell_type": "code",
   "execution_count": null,
   "id": "ef8a6a292a144822",
   "metadata": {},
   "outputs": [],
   "source": [
    "valid_dl = DataLoader(list(zip(valid_x, valid_y)))"
   ]
  },
  {
   "cell_type": "code",
   "execution_count": null,
   "id": "e35b2083d03a09fe",
   "metadata": {},
   "outputs": [],
   "source": [
    "def calc_grad(xb, yb, model):\n",
    "    preds = model(xb)\n",
    "    l = loss(preds, yb)\n",
    "    l.backward()\n",
    "\n",
    "class BasicOptim:\n",
    "    \n",
    "    def __init__(self, params: Tensor, lr: float):\n",
    "        self.params = list(params)\n",
    "        self.lr = lr\n",
    "        \n",
    "    def step(self):\n",
    "        for p in self.params:\n",
    "            # print(f'gradient: {p.grad.data[4:4:4]}')\n",
    "            p.data -= p.grad.data * self.lr\n",
    "            \n",
    "    def zero_grad(self):\n",
    "        for p in self.params:\n",
    "            p.grad = None\n",
    "\n",
    "def train_epoch(model, opt: BasicOptim):\n",
    "    for xb, yb in dl:\n",
    "        calc_grad(xb, yb, model)\n",
    "        opt.step()\n",
    "        opt.zero_grad()\n",
    "        \n",
    "def batch_accuracy(xb, yb):\n",
    "    preds = xb.sigmoid()\n",
    "    correct = (preds>0.5) == yb\n",
    "    return correct.float().mean()\n",
    "\n",
    "def validate_epoch(model):\n",
    "    accs = [batch_accuracy(model(xb), yb) for xb,yb in valid_dl]\n",
    "    return round(torch.stack(accs).mean().item(), 4)\n",
    "\n",
    "\n",
    "lr = 1.\n",
    "\n",
    "linear_model = nn.Linear(28 * 28, 1)\n",
    "\n",
    "opt = BasicOptim(linear_model.parameters(), lr)\n",
    "\n",
    "for i in range(20):\n",
    "    train_epoch(linear_model, opt)\n",
    "    print(validate_epoch(linear_model))"
   ]
  },
  {
   "cell_type": "code",
   "execution_count": null,
   "id": "b10261a2628c9db",
   "metadata": {},
   "outputs": [],
   "source": [
    "linear_model(valid_x)"
   ]
  },
  {
   "cell_type": "code",
   "execution_count": null,
   "id": "ab34027d398dc826",
   "metadata": {},
   "outputs": [],
   "source": []
  }
 ],
 "metadata": {
  "kernelspec": {
   "display_name": "Python 3",
   "language": "python",
   "name": "python3"
  },
  "language_info": {
   "codemirror_mode": {
    "name": "ipython",
    "version": 2
   },
   "file_extension": ".py",
   "mimetype": "text/x-python",
   "name": "python",
   "nbconvert_exporter": "python",
   "pygments_lexer": "ipython2"
  }
 },
 "nbformat": 4,
 "nbformat_minor": 5
}
