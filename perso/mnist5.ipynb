{
 "cells": [
  {
   "cell_type": "code",
   "execution_count": null,
   "id": "initial_id",
   "metadata": {},
   "outputs": [],
   "source": [
    "import os\n",
    "\n",
    "from fastai.vision.all import *\n",
    "print(\"Is CUDA available?:\", torch.cuda.is_available())"
   ]
  },
  {
   "cell_type": "code",
   "execution_count": null,
   "id": "dcfc3fe1e0dfb900",
   "metadata": {},
   "outputs": [],
   "source": [
    "path = untar_data(URLs.MNIST_SAMPLE, base='./data')\n",
    "path.ls()"
   ]
  },
  {
   "cell_type": "code",
   "execution_count": null,
   "id": "43875d355d31b085",
   "metadata": {},
   "outputs": [],
   "source": [
    "training_ones = (path / \"train\" / \"3\").ls().sorted()\n",
    "training_fives = (path / \"train\" / \"7\").ls().sorted()\n",
    "testing_ones = (path / \"valid\" / \"3\").ls().sorted()\n",
    "testing_fives = (path / \"valid\" / \"7\").ls().sorted()\n",
    "dataset = training_ones + training_fives + testing_ones + testing_fives\n",
    "dataset"
   ]
  },
  {
   "cell_type": "code",
   "execution_count": null,
   "id": "dfca670aa8ea8dc3",
   "metadata": {},
   "outputs": [],
   "source": [
    "chars = DataBlock(\n",
    "    blocks=(ImageBlock, CategoryBlock),\n",
    "    get_items=get_image_files,\n",
    "    splitter=GrandparentSplitter(),\n",
    "    get_y=parent_label\n",
    ")\n",
    "chars"
   ]
  },
  {
   "cell_type": "code",
   "execution_count": null,
   "id": "388a8dc9c6dfe81b",
   "metadata": {},
   "outputs": [],
   "source": [
    "dls = chars.dataloaders(path)\n",
    "dls"
   ]
  },
  {
   "cell_type": "code",
   "execution_count": null,
   "id": "3f93e9cb131ab636",
   "metadata": {},
   "outputs": [],
   "source": [
    "# https://stackoverflow.com/questions/67154919/fast-aimoduleattributeerror-sequential-object-has-no-attribute-fine-tune\n",
    "#from fastai.callback.schedule import fine_tune\n",
    "\n",
    "learn = vision_learner(dls, models.resnet18, metrics=error_rate)\n",
    "learn.fine_tune(1)"
   ]
  },
  {
   "cell_type": "code",
   "execution_count": null,
   "id": "83f270598ddde2b9",
   "metadata": {},
   "outputs": [],
   "source": [
    "learn.export()"
   ]
  },
  {
   "cell_type": "code",
   "execution_count": null,
   "id": "5b39bc30599a8581",
   "metadata": {},
   "outputs": [],
   "source": [
    "learn.predict(os.getenv('HOME') + '/.fastai/data/mnist_sample/train/3/10.png')"
   ]
  },
  {
   "cell_type": "code",
   "execution_count": null,
   "id": "3e2d421151e69327",
   "metadata": {},
   "outputs": [],
   "source": [
    "learn.show_results()"
   ]
  }
 ],
 "metadata": {
  "kernelspec": {
   "display_name": "Python 3",
   "language": "python",
   "name": "python3"
  },
  "language_info": {
   "codemirror_mode": {
    "name": "ipython",
    "version": 2
   },
   "file_extension": ".py",
   "mimetype": "text/x-python",
   "name": "python",
   "nbconvert_exporter": "python",
   "pygments_lexer": "ipython2"
  }
 },
 "nbformat": 4,
 "nbformat_minor": 5
}
