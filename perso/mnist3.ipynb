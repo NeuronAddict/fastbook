{
 "cells": [
  {
   "cell_type": "code",
   "execution_count": null,
   "id": "30cdc196fc8f3fff",
   "metadata": {},
   "outputs": [],
   "source": [
    "from fastai.metrics import accuracy\n",
    "# Do not use fastai.vision.models, that raise an error like AttributeError: 'Sequential' object has no attribute 'fit_one_cycle' \n",
    "from fastai.vision.all import models\n",
    "from fastai.vision.core import PILImage\n",
    "from fastai.vision.learner import vision_learner\n",
    "from fastai.learner import Learner\n",
    "import os\n",
    "from pathlib import Path\n",
    "import torch.nn.functional as F\n",
    "from fastai.vision.data import ImageDataLoaders\n",
    "\n",
    "path = Path(os.getenv('MNIST_PATH'))\n",
    "dls = ImageDataLoaders.from_folder(path)\n",
    "learn: Learner = vision_learner(dls, models.resnet18, pretrained=False,\n",
    "                    loss_func=F.cross_entropy, metrics=accuracy)"
   ]
  },
  {
   "cell_type": "code",
   "execution_count": null,
   "id": "initial_id",
   "metadata": {},
   "outputs": [],
   "source": [
    "learn.fit_one_cycle(1, 0.1)"
   ]
  },
  {
   "cell_type": "code",
   "execution_count": null,
   "id": "6fb97726ee9da4a3",
   "metadata": {},
   "outputs": [],
   "source": [
    "learn.predict(PILImage.open(path / \"valid\" / \"0\" / \"1001.png\"))"
   ]
  },
  {
   "cell_type": "code",
   "execution_count": null,
   "id": "e5891cb08a506b9a",
   "metadata": {},
   "outputs": [],
   "source": []
  }
 ],
 "metadata": {
  "kernelspec": {
   "display_name": "Python 3",
   "language": "python",
   "name": "python3"
  },
  "language_info": {
   "codemirror_mode": {
    "name": "ipython",
    "version": 2
   },
   "file_extension": ".py",
   "mimetype": "text/x-python",
   "name": "python",
   "nbconvert_exporter": "python",
   "pygments_lexer": "ipython2"
  }
 },
 "nbformat": 4,
 "nbformat_minor": 5
}
